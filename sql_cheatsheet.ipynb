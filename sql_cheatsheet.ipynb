{
 "cells": [
  {
   "cell_type": "markdown",
   "id": "b7f7527b-58ba-4b78-a4df-f735587b2307",
   "metadata": {},
   "source": [
    "# **Lista de comandos SQL**\n",
    "\n",
    "## Data Definition Language (DDL)\n",
    "    "
   ]
  },
  {
   "cell_type": "markdown",
   "id": "41f050ba-f36e-47e9-8554-07647d4f2908",
   "metadata": {},
   "source": [
    "<strong>CREATE</strong>  \n",
    "  CREATE DATABASE  \n",
    "  CREATE TABLE  \n",
    "  CREATE INDEX  \n",
    "  CREATE VIEW  \n",
    "  CREATE PROCEDURE  \n",
    "  CREATE FUNCTION  \n",
    "  CREATE TRIGGER  \n",
    "  CREATE SCHEMA  \n",
    "  CREATE USER  \n",
    "  CREATE ROLE  \n",
    "\n",
    "<strong>ALTER</strong>   \n",
    "  ALTER TABLE  \n",
    "  ALTER VIEW  \n",
    "  ALTER INDEX  \n",
    "  ALTER DATABASE  \n",
    "  ALTER USER  \n",
    "  ALTER ROLE  \n",
    "  ALTER SCHEMA  \n",
    "\n",
    "<strong>DROP</strong>    \n",
    "  DROP DATABASE  \n",
    "  DROP TABLE  \n",
    "  DROP INDEX  \n",
    "  DROP VIEW  \n",
    "  DROP PROCEDURE  \n",
    "  DROP FUNCTION  \n",
    "  DROP TRIGGER  \n",
    "  DROP SCHEMA  \n",
    "  DROP USER  \n",
    "  DROP ROLE  \n",
    "\n",
    "<strong>TRUNCATE</strong>    \n",
    "  TRUNCATE TABLE  \n",
    "\n",
    "<strong>RENAME</strong>    \n",
    "  RENAME TABLE  "
   ]
  },
  {
   "cell_type": "markdown",
   "id": "cb8c7b9d-aaa5-4d0e-9472-fad9782fb1ef",
   "metadata": {},
   "source": [
    "## Data Manipulation Language (DML)"
   ]
  },
  {
   "cell_type": "markdown",
   "id": "8fb0928f-818a-45a7-a47a-302dffb9cc81",
   "metadata": {},
   "source": [
    "<strong>SELECT</strong>  \n",
    "  SELECT DISTINCT  \n",
    "  SELECT INTO  \n",
    "  SELECT TOP  \n",
    "  UNION  \n",
    "  UNION ALL  \n",
    "\n",
    "<strong>INSERT</strong>  \n",
    "  INSERT INTO ... SELECT\n",
    "\n",
    "<strong>UPDATE</strong>  \n",
    "\n",
    "<strong>DELETE</strong>  \n",
    "\n",
    "<strong>MERGE</strong>  \n",
    "\n",
    "<strong>CALL</strong>  "
   ]
  },
  {
   "cell_type": "markdown",
   "id": "8f260710-409c-414e-a50a-54051a26ea3b",
   "metadata": {},
   "source": [
    "## Data Control Language (DCL)"
   ]
  },
  {
   "cell_type": "markdown",
   "id": "40361767-b6dc-421a-b823-03a96470b35a",
   "metadata": {},
   "source": [
    "<strong>GRANT</strong>  \n",
    "<strong>REVOKE</strong>  \n",
    "DENY  "
   ]
  },
  {
   "cell_type": "markdown",
   "id": "1f96d7c0-2305-487c-81bf-d0eae51d3499",
   "metadata": {},
   "source": [
    "## Transaction Control Language (TCL)"
   ]
  },
  {
   "cell_type": "markdown",
   "id": "76e18501-b575-4807-8b5c-8e5f4a9d44c2",
   "metadata": {},
   "source": [
    "**COMMIT**  \n",
    "**ROLLBACK**  \n",
    "**SAVEPOINT**  \n",
    "**SET** TRANSACTION  \n",
    "**SET** AUTOCOMMIT  "
   ]
  },
  {
   "cell_type": "markdown",
   "id": "0f61d4ae-d5dd-40d0-a7d8-724f37d32768",
   "metadata": {},
   "source": [
    "## Otros Comandos"
   ]
  },
  {
   "cell_type": "markdown",
   "id": "3765d381-d75b-4e62-a880-17873340de63",
   "metadata": {},
   "source": [
    "**EXPLAIN**  \n",
    "**DESCRIBE (DESC)**  \n",
    "**SHOW**  \n",
    "  SHOW TABLES  \n",
    "  SHOW COLUMNS  \n",
    "  SHOW INDEX  \n",
    "  SHOW DATABASES  \n",
    "  SHOW STATUS  \n",
    "  SHOW VARIABLES  \n",
    "  SHOW PROCESSLIST  \n",
    "\n",
    "**USE**  \n",
    "LOCK **TABLE**  \n",
    "UNLOCK **TABLE**  \n",
    "ANALYZE **TABLE**  \n",
    "**CHECK TABLE**  \n",
    "REPAIR **TABLE**  \n",
    "OPTIMIZE **TABLE**  \n"
   ]
  },
  {
   "cell_type": "markdown",
   "id": "cb907f0b-6b54-4fb8-a80b-357adb1b7697",
   "metadata": {},
   "source": [
    "## Comandos de Control de Usuarios y Roles"
   ]
  },
  {
   "cell_type": "markdown",
   "id": "7c17b5a5-3dd8-4539-8bb1-dd2e941d4b8b",
   "metadata": {},
   "source": [
    "**CREATE USER**  \n",
    "**ALTER USER**  \n",
    "**DROP USER**  \n",
    "**CREATE** ROLE  \n",
    "**ALTER** ROLE  \n",
    "**DROP** ROLE  \n",
    "**SET** ROLE  "
   ]
  },
  {
   "cell_type": "markdown",
   "id": "6960bc21-628a-48b8-aa6c-37a5d305c5e8",
   "metadata": {},
   "source": [
    "## Comandos de Procedimientos y Funciones"
   ]
  },
  {
   "cell_type": "markdown",
   "id": "bc995503-f611-4d73-833d-23b47f510c00",
   "metadata": {},
   "source": [
    "**CREATE PROCEDURE**  \n",
    "**ALTER PROCEDURE**  \n",
    "**DROP PROCEDURE**  \n",
    "**CREATE FUNCTION**  \n",
    "**ALTER FUNCTION**  \n",
    "**DROP FUNCTION**  "
   ]
  }
 ],
 "metadata": {
  "kernelspec": {
   "display_name": "Python 3 (ipykernel)",
   "language": "python",
   "name": "python3"
  },
  "language_info": {
   "codemirror_mode": {
    "name": "ipython",
    "version": 3
   },
   "file_extension": ".py",
   "mimetype": "text/x-python",
   "name": "python",
   "nbconvert_exporter": "python",
   "pygments_lexer": "ipython3",
   "version": "3.12.4"
  }
 },
 "nbformat": 4,
 "nbformat_minor": 5
}
